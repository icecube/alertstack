{
 "cells": [
  {
   "cell_type": "code",
   "execution_count": 1,
   "metadata": {},
   "outputs": [],
   "source": [
    "%matplotlib inline\n",
    "import matplotlib.pyplot as plt\n",
    "import numpy as np\n",
    "from alertstack.analyse import Analyse\n",
    "from alertstack.scramble_catalogues.blazar_catalogue import Fermi4FGLBlazarCatalogue, AverageFluxWeightHypothesis\n",
    "from alertstack.fixed_catalogues.icecube_neutrino_alerts import CircularisedNeutrinoAlertCatalogue\n",
    "from alertstack.stats import GammaDistribution"
   ]
  },
  {
   "cell_type": "code",
   "execution_count": 10,
   "metadata": {},
   "outputs": [
    {
     "name": "stdout",
     "output_type": "stream",
     "text": [
      "45\n"
     ]
    }
   ],
   "source": [
    "blazars = Fermi4FGLBlazarCatalogue()\n",
    "\n",
    "blazars.data = blazars.data\n",
    "# print(blazars.data[\"Flux1000\"][:5])\n",
    "nu_cat = CircularisedNeutrinoAlertCatalogue()\n",
    "nu_cat.data = nu_cat.data\n",
    "\n",
    "print(len(nu_cat.data))\n",
    "\n",
    "ana = Analyse(\n",
    "    blazars,\n",
    "    [AverageFluxWeightHypothesis],\n",
    "    nu_cat\n",
    ")"
   ]
  },
  {
   "cell_type": "code",
   "execution_count": 11,
   "metadata": {},
   "outputs": [],
   "source": [
    "# # plt.figure(projection=\"aitoff\")\n",
    "# %matplotlib inline\n",
    "# import matplotlib.pyplot as plt\n",
    "# cat = ana.base_cat.scramble()\n",
    "# plt.scatter(cat[\"ra_rad\"], cat[\"dec_rad\"])\n",
    "# plt.figure()\n"
   ]
  },
  {
   "cell_type": "code",
   "execution_count": 12,
   "metadata": {},
   "outputs": [
    {
     "name": "stderr",
     "output_type": "stream",
     "text": [
      "100%|██████████| 10000/10000 [01:50<00:00, 90.60it/s]\n",
      "100%|██████████| 1000/1000 [00:18<00:00, 53.72it/s]\n",
      "100%|██████████| 1000/1000 [00:28<00:00, 35.43it/s]\n",
      "100%|██████████| 1000/1000 [00:39<00:00, 25.54it/s]\n",
      "100%|██████████| 1000/1000 [00:49<00:00, 20.08it/s]\n",
      "100%|██████████| 1000/1000 [01:11<00:00, 13.94it/s]\n"
     ]
    },
    {
     "name": "stdout",
     "output_type": "stream",
     "text": [
      "      fun: 23963.710373434023\n",
      " hess_inv: <3x3 LbfgsInvHessProduct with dtype=float64>\n",
      "      jac: array([0.00509317, 0.00254659, 0.0163709 ])\n",
      "  message: b'CONVERGENCE: REL_REDUCTION_OF_F_<=_FACTR*EPSMCH'\n",
      "     nfev: 140\n",
      "      nit: 29\n",
      "   status: 0\n",
      "  success: True\n",
      "        x: array([ 5.04708712, -3.78983683,  1.26796836])\n"
     ]
    }
   ],
   "source": [
    "all_res = ana.iterate_run(n_trials=1000, injection_hypo=AverageFluxWeightHypothesis, fraction=1.0, nsteps=5)\n",
    "\n",
    "sens_threshold = dict()\n",
    "disc_3_threshold = dict()\n",
    "disc_4_threshold = dict()\n",
    "disc_5_threshold = dict()\n",
    "\n",
    "zero_key = 0.0\n",
    "\n",
    "for key, val in all_res[zero_key].items():\n",
    "    sens_threshold[key] = np.median(val)\n",
    "    gd = GammaDistribution(val)\n",
    "    disc_3_threshold[key] = gd.calculate_discovery_potential(3.)\n",
    "    disc_4_threshold[key] = gd.calculate_discovery_potential(4.)\n",
    "    disc_5_threshold[key] = gd.calculate_discovery_potential(5.)\n",
    "    # print(Chi2(val))\n",
    "    # input(\"?\")"
   ]
  },
  {
   "cell_type": "code",
   "execution_count": 13,
   "metadata": {},
   "outputs": [
    {
     "name": "stdout",
     "output_type": "stream",
     "text": [
      "      fun: 23963.710373434023\n",
      " hess_inv: <3x3 LbfgsInvHessProduct with dtype=float64>\n",
      "      jac: array([0.00509317, 0.00254659, 0.0163709 ])\n",
      "  message: b'CONVERGENCE: REL_REDUCTION_OF_F_<=_FACTR*EPSMCH'\n",
      "     nfev: 140\n",
      "      nit: 29\n",
      "   status: 0\n",
      "  success: True\n",
      "        x: array([ 5.04708712, -3.78983683,  1.26796836])\n",
      "3 Sigma Discovery Potential: 14.559043876396656\n",
      "0.9986499669650664\n",
      "4 Sigma Discovery Potential: 20.699225043413122\n",
      "0.9999683255907259\n",
      "5 Sigma Discovery Potential: 27.92596185172568\n",
      "0.99999971331976\n"
     ]
    },
    {
     "data": {
      "image/png": "[encoded data removed]",
      "text/plain": [
       "<Figure size 432x288 with 1 Axes>"
      ]
     },
     "metadata": {
      "needs_background": "light"
     },
     "output_type": "display_data"
    }
   ],
   "source": [
    "for key, val in all_res[zero_key].items():\n",
    "    \n",
    "    gd = GammaDistribution(val)\n",
    "    \n",
    "    data = np.array(val)\n",
    "    \n",
    "#     bins = np.histogram(data, bins=20)\n",
    "#     print(np.log(bins[0]), len(bins[0]), len(bins[1]))\n",
    "    \n",
    "#     x_vals = [np.mean([x + bins[1][i+1]]) for i, x in enumerate(bins[1][:-1])]\n",
    "    \n",
    "#     plt.plot(x_vals, np.log(bins[0]))\n",
    "    \n",
    "#     print(x_vals, np.log(bins[0]))\n",
    "    \n",
    "    weights = np.ones(len(val))\n",
    "    weights /= np.sum(weights)\n",
    "    mask = data > 0.\n",
    "    \n",
    "    plt.hist(data, density=True, bins=50)\n",
    "#     plt.hist(data[mask], weights=weights[mask])\n",
    "#     plt.hist(data[~mask], weights=weights[~mask], color=\"grey\")\n",
    "    x_range = np.linspace(min(data), max(data), 100)\n",
    "#     plt.plot(x_range, scipy.stats.gamma.pdf(x_range, res[\"x\"][0], loc=0., scale=res[\"x\"][1]))\n",
    "    plt.yscale(\"log\")\n",
    "    ylim = plt.gca().get_ylim()\n",
    "    plt.plot(x_range, gd.dist.pdf(x_range))#*(1 - gd.frac_under_zero))\n",
    "    plt.gca().set_ylim(ylim)\n",
    "    \n",
    "    for i in [3, 4, 5]:\n",
    "        disc_threshold = gd.calculate_discovery_potential(i)\n",
    "        print(\"{0} Sigma Discovery Potential: {1}\".format(i, disc_threshold))\n",
    "        print(gd.dist.cdf(disc_threshold))# + gd.frac_under_zero)"
   ]
  },
  {
   "cell_type": "code",
   "execution_count": 14,
   "metadata": {},
   "outputs": [
    {
     "name": "stdout",
     "output_type": "stream",
     "text": [
      "Fraction of neutrino alerts correlated to source: 0.0 \n",
      "\n",
      "average_flux_weight 2.609707816156937 2.23645198255053 2.8205354988378426\n",
      "2.23645198255053\n",
      "Fraction above Background Median: 0.5\n",
      "14.559043876396656\n",
      "Fraction above 3 Sigma Discovery Potential: 0.0009\n",
      "20.699225043413122\n",
      "Fraction above 4 Sigma Discovery Potential: 0.0\n",
      "27.92596185172568\n",
      "Fraction above 5 Sigma Discovery Potential: 0.0\n",
      "Fraction of neutrino alerts correlated to source: 0.2 \n",
      "\n",
      "average_flux_weight 27.089808948230864 26.88786209009247 9.426732974181233\n",
      "2.23645198255053\n",
      "Fraction above Background Median: 1.0\n",
      "14.559043876396656\n",
      "Fraction above 3 Sigma Discovery Potential: 0.9\n",
      "20.699225043413122\n",
      "Fraction above 4 Sigma Discovery Potential: 0.749\n",
      "27.92596185172568\n",
      "Fraction above 5 Sigma Discovery Potential: 0.449\n",
      "Fraction of neutrino alerts correlated to source: 0.4 \n",
      "\n",
      "average_flux_weight 48.059061467674645 48.0979674989941 11.091870724908311\n",
      "2.23645198255053\n",
      "Fraction above Background Median: 1.0\n",
      "14.559043876396656\n",
      "Fraction above 3 Sigma Discovery Potential: 1.0\n",
      "20.699225043413122\n",
      "Fraction above 4 Sigma Discovery Potential: 0.999\n",
      "27.92596185172568\n",
      "Fraction above 5 Sigma Discovery Potential: 0.974\n",
      "Fraction of neutrino alerts correlated to source: 0.6000000000000001 \n",
      "\n",
      "average_flux_weight 65.39470495938744 65.2960579120768 12.177467358725018\n",
      "2.23645198255053\n",
      "Fraction above Background Median: 1.0\n",
      "14.559043876396656\n",
      "Fraction above 3 Sigma Discovery Potential: 1.0\n",
      "20.699225043413122\n",
      "Fraction above 4 Sigma Discovery Potential: 1.0\n",
      "27.92596185172568\n",
      "Fraction above 5 Sigma Discovery Potential: 0.999\n",
      "Fraction of neutrino alerts correlated to source: 0.8 \n",
      "\n",
      "average_flux_weight 81.29606921619673 81.38556539239958 12.350439617363634\n",
      "2.23645198255053\n",
      "Fraction above Background Median: 1.0\n",
      "14.559043876396656\n",
      "Fraction above 3 Sigma Discovery Potential: 1.0\n",
      "20.699225043413122\n",
      "Fraction above 4 Sigma Discovery Potential: 1.0\n",
      "27.92596185172568\n",
      "Fraction above 5 Sigma Discovery Potential: 1.0\n",
      "Fraction of neutrino alerts correlated to source: 1.0 \n",
      "\n",
      "average_flux_weight 93.79018805704777 94.01898131663327 11.927267329953404\n",
      "2.23645198255053\n",
      "Fraction above Background Median: 1.0\n",
      "14.559043876396656\n",
      "Fraction above 3 Sigma Discovery Potential: 1.0\n",
      "20.699225043413122\n",
      "Fraction above 4 Sigma Discovery Potential: 1.0\n",
      "27.92596185172568\n",
      "Fraction above 5 Sigma Discovery Potential: 1.0\n"
     ]
    }
   ],
   "source": [
    "levels = [\n",
    "    (\"Background Median\", sens_threshold),\n",
    "    (\"3 Sigma Discovery Potential\", disc_3_threshold),\n",
    "    (\"4 Sigma Discovery Potential\", disc_4_threshold),\n",
    "    (\"5 Sigma Discovery Potential\", disc_5_threshold)\n",
    "]\n",
    "\n",
    "\n",
    "for step, res in all_res.items():\n",
    "    print(\"Fraction of neutrino alerts correlated to source: {0} \\n\".format(step))\n",
    "\n",
    "    bkgs = dict()\n",
    "\n",
    "    for key, val in res.items():\n",
    "        print(key, np.mean(val), np.median(val), np.std(val))\n",
    "        val = np.array(val)\n",
    "\n",
    "        for name, thresh in levels:\n",
    "            print(thresh[key])\n",
    "            print(\"Fraction above {0}: {1}\".format(\n",
    "                name, np.sum(val > thresh[key])/float(len(val))))"
   ]
  },
  {
   "cell_type": "code",
   "execution_count": 15,
   "metadata": {
    "scrolled": true
   },
   "outputs": [],
   "source": [
    "# for key, val in all_res[zero_key].items():\n",
    "#     weights = np.ones_like(val)/float(len(val))\n",
    "#     plt.hist(val, weights=weights, bins=50)\n",
    "#     plt.title(key)\n",
    "#     plt.yscale(\"log\")\n",
    "#     plt.figure()\n",
    "#     plt.hist(val, weights=weights, cumulative=True, bins=50)"
   ]
  },
  {
   "cell_type": "code",
   "execution_count": 16,
   "metadata": {
    "scrolled": true
   },
   "outputs": [
    {
     "data": {
      "text/plain": [
       "(array([ 88., 102.,  98.,  98., 111.,  92., 106.,  89., 103., 113.]),\n",
       " array([-9.99223856e-01, -7.99530141e-01, -5.99836426e-01, -4.00142712e-01,\n",
       "        -2.00448997e-01, -7.55281869e-04,  1.98938433e-01,  3.98632148e-01,\n",
       "         5.98325863e-01,  7.98019578e-01,  9.97713292e-01]),\n",
       " <a list of 10 Patch objects>)"
      ]
     },
     "execution_count": 16,
     "metadata": {},
     "output_type": "execute_result"
    },
    {
     "data": {
      "image/png": "[encoded data removed]",
      "text/plain": [
       "<Figure size 432x288 with 1 Axes>"
      ]
     },
     "metadata": {
      "needs_background": "light"
     },
     "output_type": "display_data"
    }
   ],
   "source": [
    "import numpy as np\n",
    "res = np.arccos(np.random.uniform(size=1000)*2 - 1) - np.pi/2.\n",
    "plt.hist(res)\n",
    "plt.hist(np.cos(np.pi/2. - res))"
   ]
  },
  {
   "cell_type": "code",
   "execution_count": 17,
   "metadata": {},
   "outputs": [
    {
     "name": "stdout",
     "output_type": "stream",
     "text": [
      "0.23914848943700232\n"
     ]
    },
    {
     "data": {
      "image/png": "[encoded data removed]",
      "text/plain": [
       "<Figure size 432x288 with 1 Axes>"
      ]
     },
     "metadata": {
      "needs_background": "light"
     },
     "output_type": "display_data"
    }
   ],
   "source": [
    "nu = nu_cat.data[0]\n",
    "\n",
    "ras = [nu.simulate_position()[0] for _ in range(1000)]\n",
    "plt.hist(ras)\n",
    "print(np.degrees(nu.sigma))"
   ]
  },
  {
   "cell_type": "code",
   "execution_count": null,
   "metadata": {},
   "outputs": [],
   "source": []
  },
  {
   "cell_type": "code",
   "execution_count": null,
   "metadata": {},
   "outputs": [],
   "source": []
  },
  {
   "cell_type": "code",
   "execution_count": null,
   "metadata": {},
   "outputs": [],
   "source": []
  },
  {
   "cell_type": "code",
   "execution_count": null,
   "metadata": {},
   "outputs": [],
   "source": []
  }
 ],
 "metadata": {
  "kernelspec": {
   "display_name": "AlertStacker",
   "language": "python",
   "name": "alertstacker"
  },
  "language_info": {
   "codemirror_mode": {
    "name": "ipython",
    "version": 3
   },
   "file_extension": ".py",
   "mimetype": "text/x-python",
   "name": "python",
   "nbconvert_exporter": "python",
   "pygments_lexer": "ipython3",
   "version": "3.7.4"
  }
 },
 "nbformat": 4,
 "nbformat_minor": 1
}
