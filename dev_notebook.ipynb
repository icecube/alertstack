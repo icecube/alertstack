{
 "cells": [
  {
   "cell_type": "code",
   "execution_count": 1,
   "metadata": {
    "scrolled": true
   },
   "outputs": [],
   "source": [
    "%matplotlib inline\n",
    "import matplotlib.pyplot as plt\n",
    "import numpy as np\n",
    "from alertstack.analyse import Analyse\n",
    "from alertstack.scramble_catalogues.blazar_catalogue import Fermi4FGLBlazarCatalogue, AverageFluxWeightHypothesis\n",
    "from alertstack.fixed_catalogues.icecube_neutrino_alerts import HealpixNeutrinoAlertCatalogue\n",
    "from alertstack.stats import GammaDistribution\n",
    "from examples.fermi_neutrino_alert import blazar_analysis"
   ]
  },
  {
   "cell_type": "code",
   "execution_count": 2,
   "metadata": {},
   "outputs": [],
   "source": [
    "blazars = Fermi4FGLBlazarCatalogue()\n",
    "\n",
    "blazars.data = blazars.data\n",
    "# # print(blazars.data[\"Flux1000\"][:5])\n",
    "# nu_cat = CircularisedNeutrinoAlertCatalogue()\n",
    "# nu_cat.data = nu_cat.data\n",
    "\n",
    "# print(len(nu_cat.data))\n",
    "\n",
    "# ana = Analyse(\n",
    "#     blazars,\n",
    "#     [AverageFluxWeightHypothesis],\n",
    "#     nu_cat,\n",
    "#     blazar_cache\n",
    "# )"
   ]
  },
  {
   "cell_type": "code",
   "execution_count": 3,
   "metadata": {},
   "outputs": [
    {
     "name": "stdout",
     "output_type": "stream",
     "text": [
      "[(b'4FGL J2253.9+1609 ', 343.4963,  16.1506,  86.11852, -38.18486 , 0.00456378, 0.00456378, -53.83, 0.0074, 0.0074, -53.83,  699, b'                  ', 443.8451  ,   517.46234, 9.8347442e-08, 5.9637822e-10, 1.1148474e-09, 5.3422553e-12, b'PLSuperExpCutoff ', 6.32308927e-10, 2.8152322e-12, 2.3871574, 0.00337629, 7.2006756e-10, 3.9487983e-12, 2.3148952 , 0.00499897, 0.09993269, 0.00273778, 38.145714 , 7.01410541e-10, 3.5839014e-12, 2.0142322e+00, 0.00954529, 0.01990755, 0.00142085, 0.5183553, 0.00666065, 39.507847 , 7.2486000e+04, [2.52024142e-06, 1.60860168e-06, 4.44110952e-07, 8.31356104e-08, 1.40801300e-08, 1.10932763e-09, 6.31789135e-11], [[-9.98927945e-08,  9.98927945e-08], [-2.20194778e-08,  2.20194778e-08], [-3.12940207e-09,  3.12940207e-09], [-7.09020287e-10,  7.09020287e-10], [-2.33759068e-10,  2.33759068e-10], [-6.05853215e-11,  6.05853215e-11], [-1.34684000e-11,  1.54910147e-11]], [4.02013783e-10, 3.80391274e-10, 2.94930386e-10, 1.90219215e-10, 8.72911535e-11, 2.30096723e-11, 1.75610687e-12], [ 20.126493  , 101.57866   , 266.5636    , 272.99533   , 168.47386   ,  55.02622   ,  13.044973  ], 5.0905230e+04, 0.80692005,  0.2156872 , 355.84247 , 5.1103757e-06, 2.8642487e-08, 3.18230016e+08, 31560000., [1.12158841e-06, 3.96501810e-06, 5.11037570e-06, 3.37721886e-08, 4.46634203e-07, 1.99415103e-06, 1.99079568e-06, 2.33328251e-06], [[-1.36493066e-08,  1.36493066e-08], [-2.55501291e-08,  2.55501291e-08], [-2.86424875e-08,  2.86424875e-08], [-4.58995153e-09,  4.80290208e-09], [-1.06571045e-08,  1.06571045e-08], [-2.07883346e-08,  2.07883346e-08], [-2.17910312e-08,  2.17910312e-08], [-2.07640465e-08,  2.07640465e-08]], [1.49571548e+02, 2.96307648e+02, 3.55842468e+02, 9.70138264e+00, 7.29372940e+01, 1.88230560e+02, 1.72668533e+02, 2.14469513e+02], b'3FGL J2254.0+1608 ', b'3FHL J2253.9+1608 ', b' J2254+1609       ', b'3EG J2254+1601    ', b'EGR J2253+1606    ', b'N', b'                          ', b'FSRQ ', b'     ', b'3C 454.3                    ', b'                          ', 1.       , 0.9995651 , 343.49061642,  16.14821135, 6.318e-08,   0)\n",
      " (b'4FGL J1427.9-4206 ', 216.9866, -42.106 , 321.44855,  17.269459, 0.00487215, 0.00481047,  -0.11, 0.0079, 0.0078,  -0.11, 1055, b'                  ', 258.0308  ,   677.4515 , 3.8168814e-08, 3.5712369e-10, 3.5360559e-10, 3.3498759e-12, b'LogParabola      ', 1.00717878e-10, 7.7368716e-13, 2.191294 , 0.00564453, 1.1241706e-10, 9.9979584e-13, 2.08048   , 0.00838787, 0.09571016, 0.00440646, 17.132729 , 1.07540636e-10, 9.0333963e-13, 1.9276116e+00, 0.01379295, 0.00260027, 0.00013395, 0.6666667,        nan, 17.385248 , 2.9353631e+04, [4.31897831e-07, 3.17710573e-07, 1.18686465e-07, 2.93456228e-08, 7.46032658e-09, 1.12844867e-09, 8.79926756e-11], [[-3.00062162e-08,  3.00062162e-08], [-7.74380027e-09,  7.74380027e-09], [-1.43482037e-09,  1.43482037e-09], [-3.89172139e-10,  3.89172139e-10], [-1.59415869e-10,  1.59415869e-10], [-5.77870217e-11,  5.77870217e-11], [-1.49906563e-11,  1.67803601e-11]], [7.01675107e-11, 7.77236053e-11, 8.11045814e-11, 6.87459256e-11, 4.84558574e-11, 2.53561009e-11, 3.31544384e-12], [  9.638122  ,  53.493095  , 136.32373   , 158.79341   , 123.06871   ,  58.56039   ,  15.967481  ], 1.2653290e+04, 0.8003768 ,  0.21400505, 216.45282 , 1.3045287e-06, 1.2483276e-08, 3.81350016e+08, 31560000., [7.13481825e-08, 2.70446947e-07, 2.19064844e-07, 4.02537438e-07, 1.30452872e-06, 5.64413313e-07, 3.70096927e-07, 5.52671111e-07], [[-4.28935376e-09,  4.28935376e-09], [-6.50608056e-09,  6.50608056e-09], [-6.27902530e-09,  6.27902530e-09], [-7.75928832e-09,  7.75928832e-09], [-1.24832757e-08,  1.24832757e-08], [-8.10940293e-09,  8.10940293e-09], [-7.01781477e-09,  7.01781477e-09], [-8.48311377e-09,  8.48311377e-09]], [2.58776741e+01, 7.42604523e+01, 5.83801880e+01, 9.39294281e+01, 2.16452820e+02, 1.31151337e+02, 9.72101593e+01, 1.22907196e+02], b'3FGL J1427.9-4206 ', b'3FHL J1427.9-4206 ', b'                  ', b'3EG J1429-4217    ', b'EGR J1428-4240    ', b'N', b'                          ', b'FSRQ ', b'     ', b'PKS 1424-41                 ', b'                          ', 1.       , 0.99985975, 216.98457317, -42.10539936, 6.318e-08,   0)\n",
      " (b'4FGL J1512.8-0906 ', 228.2147,  -9.1064, 351.28754,  40.13122 , 0.00505716, 0.00499549,  -1.46, 0.0082, 0.0081,  -1.46,  276, b'                  ', 232.97244 ,   742.8114 , 3.8087730e-08, 3.5587919e-10, 4.5896065e-10, 3.8530143e-12, b'LogParabola      ', 1.05525436e-10, 7.5836467e-13, 2.3796513, 0.00541685, 1.1430437e-10, 9.8677251e-13, 2.3704782 , 0.00880522, 0.0557592 , 0.00365667, 11.793214 , 1.11570725e-10, 9.1861328e-13, 2.2491522e+00, 0.01132376, 0.00162935, 0.00012986, 0.6666667,        nan, 11.061813 , 3.8181543e+04, [9.91853653e-07, 6.50652112e-07, 1.71484601e-07, 3.12367625e-08, 5.95873173e-09, 8.47190429e-10, 1.28353508e-10], [[-1.04538564e-07,  1.06237088e-07], [-1.54413069e-08,  1.54413069e-08], [-1.95827843e-09,  1.95827843e-09], [-4.17310825e-10,  4.17310825e-10], [-1.48439747e-10,  1.48439747e-10], [-5.25582841e-11,  5.25582841e-11], [-1.89414318e-11,  2.09390942e-11]], [1.58213651e-10, 1.53195193e-10, 1.13215590e-10, 7.17547133e-11, 3.82195213e-11, 1.89999891e-11, 4.99015282e-12], [  9.69928   ,  50.524906  , 128.1252    , 149.77805   , 102.317696  ,  46.073475  ,  17.962482  ], 4.4210425e+03, 0.4253476 ,  0.11382833, 126.573685, 1.4233827e-06, 1.7420785e-08, 3.49790016e+08, 31560000., [1.17141997e-06, 6.15114800e-07, 5.22941548e-07, 1.42338274e-06, 5.43937404e-07, 7.60746616e-07, 1.12830435e-06, 5.14315047e-07], [[-1.29388225e-08,  1.29388225e-08], [-1.14218173e-08,  1.14218173e-08], [-1.19396049e-08,  1.19396049e-08], [-1.74207848e-08,  1.74207848e-08], [-1.22218857e-08,  1.22218857e-08], [-1.09216653e-08,  1.09216653e-08], [-1.35229010e-08,  1.35229010e-08], [-1.14406298e-08,  1.14406298e-08]], [1.26166794e+02, 8.10091553e+01, 6.38938980e+01, 1.26573685e+02, 6.31498680e+01, 9.79873428e+01, 1.27850540e+02, 6.93004684e+01], b'3FGL J1512.8-0906 ', b'3FHL J1512.8-0906 ', b' J1513-0905       ', b'3EG J1512-0849    ', b'EGR J1512-0857    ', b'P', b'PKS 1510-089              ', b'FSRQ ', b'     ', b'PKS 1510-089                ', b'                          ', 1.       , 0.9998213 , 228.21055387,  -9.09995274, 6.318e-08, 256)\n",
      " ...\n",
      " (b'4FGL J0723.4+5841 ', 110.856 ,  58.6986, 158.20023,  26.996574, 0.03614022, 0.03108305, -44.5 , 0.0586, 0.0504, -44.5 , 1277, b'                  ',   4.153081, 11255.812  , 4.6428895e-11, 1.9053715e-11, 7.2574569e-13, 2.5047041e-13, b'PowerLaw         ', 6.34274417e-16, 2.1679758e-16, 1.575274 , 0.21991827, 1.1582934e-15, 4.6520325e-16, 0.74676067, 0.56467867, 0.7727981 , 0.32059088,  2.2223954, 1.01643117e-15, 3.8119892e-16, 4.4529075e-05, 0.0102022 , 0.00293486, 0.00097735, 0.6666667,        nan,  2.113398 , 3.7894394e+01, [2.84547369e-13, 1.27359578e-09, 1.53217355e-10, 2.42300102e-18, 1.26109314e-11, 1.10111486e-11, 4.18288971e-12], [[            nan,  1.00903339e-08], [            nan,  1.59678182e-09], [-1.50549129e-10,  1.60451777e-10], [            nan,  1.94559473e-11], [-7.28502328e-12,  9.61124583e-12], [-4.67296774e-12,  6.21773379e-12], [-2.75754419e-12,  4.84757416e-12]], [4.63628513e-17, 3.19255473e-13, 1.10659535e-13, 6.07379821e-21, 9.10810530e-14, 2.76019252e-13, 2.67247514e-13], [  0.        ,   0.71804714,   1.0182643 ,   0.        ,   2.1759093 ,   4.0994244 ,   1.8537676 ], 7.9828987e+00, 0.        , 10.        ,       -inf,          -inf,          -inf,           -inf,      -inf, [3.73662212e-10, 8.48254453e-15, 4.55525867e-10, 1.03715980e-10, 4.54685367e-17, 8.37542535e-11, 4.12470863e-10, 3.00927408e-11], [[-2.06798564e-10,  3.10184739e-10], [            nan,  2.68710248e-10], [-2.01424544e-10,  2.68873840e-10], [-8.88814022e-11,  1.70416389e-10], [            nan,  2.56131699e-10], [            nan,  3.13742615e-10], [-2.26571706e-10,  3.11713766e-10], [            nan,  2.79657159e-10]], [3.36257267e+00, 0.00000000e+00, 3.71426105e+00, 1.31404126e+00, 0.00000000e+00, 4.52834427e-01, 2.63699436e+00, 1.10537574e-01], b'                  ', b'                  ', b'                  ', b'                  ', b'                  ', b'N', b'                          ', b'bll  ', b'     ', b'RX J0723.2+5841             ', b'                          ', 0.998028 , 0.8808017 , 110.80855421,  58.68906051, 6.480e-07,   0)\n",
      " (b'4FGL J1403.4+4319 ', 210.8684,  43.3225,  85.62245,  68.2178  , 0.0251008 , 0.02275724, -81.05, 0.0407, 0.0369, -81.05, 1111, b'                  ',   4.507005, 10136.208  , 4.4512154e-11, 1.7496046e-11, 7.2181546e-13, 2.6209885e-13, b'PowerLaw         ', 7.36306524e-16, 2.6154546e-16, 1.5463812, 0.1890351 , 1.2511670e-15, 5.0908078e-16, 1.4842533 , 0.36833215, 0.2830899 , 0.22189805,  1.8832152, 1.22514221e-15, 5.0786963e-16, 5.3555423e-01, 0.82293093, 0.00234119, 0.00195965, 0.6666667,        nan,  1.9213055, 3.0389906e+01, [7.89327714e-09, 6.27320944e-15, 1.85793761e-18, 3.15898765e-11, 1.57653769e-11, 9.42035339e-12, 5.28940823e-12], [[            nan,  1.00091171e-08], [            nan,  5.31282851e-10], [            nan,  5.11006827e-11], [-2.32873148e-11,  2.78129048e-11], [-8.15770715e-12,  1.07723760e-11], [-4.48413745e-12,  6.50598369e-12], [-2.92565386e-12,  4.67867672e-12]], [1.28758039e-12, 1.57707474e-18, 1.34653785e-21, 7.94164403e-14, 1.14259364e-13, 2.36826157e-13, 3.42188761e-13], [  0.72556543,   0.        ,   0.        ,   1.4259499 ,   2.569016  ,   3.0080168 ,   4.364478  ], 9.2416630e+00, 0.        , 10.        ,       -inf,          -inf,          -inf,           -inf,      -inf, [3.74003294e-11, 3.16508181e-10, 4.43934711e-14, 3.60267094e-16, 2.75236611e-10, 2.47979721e-16, 3.85244281e-10, 3.92683691e-10], [[            nan,  2.60246352e-10], [-1.56950536e-10,  2.27226488e-10], [            nan,  2.38963238e-10], [            nan,  1.83461898e-10], [-1.58828853e-10,  2.35942349e-10], [            nan,  2.46461213e-10], [-2.14935583e-10,  2.98714636e-10], [-2.41336395e-10,  3.34210881e-10]], [1.75071046e-01, 4.25561619e+00, 0.00000000e+00, 0.00000000e+00, 3.53263330e+00, 0.00000000e+00, 2.61224866e+00, 2.41054845e+00], b'                  ', b'3FHL J1403.4+4319 ', b'                  ', b'                  ', b'                  ', b'N', b'                          ', b'bll  ', b'     ', b'NVSS J140319+432018         ', b'                          ',       nan, 0.        , 210.83106995,  43.33884811, 4.500e-03,   0)\n",
      " (b'4FGL J0741.0+3226 ', 115.2604,  32.4389, 187.34207,  23.947098, 0.02836945, 0.02460742, -35.21, 0.046 , 0.0399, -35.21, 1140, b'                  ',   4.731704, 21975.625  , 4.0800731e-11, 2.1721775e-11, 7.5944757e-13, 2.9919001e-13, b'PowerLaw         ', 2.40174842e-16, 9.4336164e-17, 1.4439031, 0.23612402, 4.1879530e-16, 2.0246951e-16, 1.1769657 , 0.6349449 , 0.42623663, 0.41899493,  1.6692095, 4.03175427e-16, 7.0936013e-16, 3.0771011e-02, 2.1521716 , 0.00190575, 0.00521666, 0.6666667,        nan,  1.783802 , 2.4024849e+01, [2.58645830e-11, 1.27663667e-12, 4.06969685e-14, 1.84200507e-15, 1.55047242e-11, 1.03677943e-11, 5.86572284e-12], [[            nan,  9.34600219e-09], [            nan,  1.78344306e-09], [            nan,  2.16739376e-10], [            nan,  2.88982397e-11], [-9.43745776e-12,  1.43765737e-11], [-4.84036249e-12,  7.29311923e-12], [-3.28944359e-12,  5.20642557e-12]], [4.23644121e-15, 3.24253371e-16, 2.98603003e-17, 4.67851493e-18, 1.13761729e-13, 2.63331918e-13, 3.96663822e-13], [  0.        ,   0.        ,   0.        ,   0.        ,   1.9386266 ,   4.3980546 ,   3.6175034 ], 5.1488051e+00, 0.        , 10.        ,       -inf,          -inf,          -inf,           -inf,      -inf, [1.84474033e-10, 1.61552036e-10, 2.64392843e-15, 5.39655487e-10, 1.36679182e-10, 2.62086547e-10, 1.10204935e-10, 2.23635777e-10], [[-1.22560670e-10,  2.10905488e-10], [-1.57617461e-10,  2.71177525e-10], [            nan,  2.04945491e-10], [-2.68102068e-10,  3.49894641e-10], [-1.08173331e-10,  2.00525513e-10], [-1.74878195e-10,  2.72485950e-10], [-7.74167466e-11,  1.50169877e-10], [-1.46051782e-10,  2.51786009e-10]], [2.94275451e+00, 1.00645626e+00, 0.00000000e+00, 3.29132509e+00, 1.86659384e+00, 2.05665827e+00, 2.73695397e+00, 2.75000834e+00], b'                  ', b'                  ', b'                  ', b'                  ', b'                  ', b'N', b'                          ', b'bll  ', b'     ', b'NVSS J074054+322600         ', b'                          ', 0.9884188, 0.        , 115.22746277,  32.43355942, 4.500e-03,   0)]\n"
     ]
    }
   ],
   "source": [
    "print(blazars.data)"
   ]
  },
  {
   "cell_type": "code",
   "execution_count": 4,
   "metadata": {},
   "outputs": [
    {
     "name": "stdout",
     "output_type": "stream",
     "text": [
      "b'4FGL J1103.6-2329 ' 165.9091 -23.4957 1.8803459327021894 b'P' b'1ES 1101-232              '\n"
     ]
    }
   ],
   "source": [
    "best_ra = 167.43\n",
    "best_dec = -22.39\n",
    "\n",
    "min_ra = 167.43 - 2.63\n",
    "max_ra = 167.43 + 3.40 \n",
    "\n",
    "min_dec = -22.39 - 2.89\n",
    "max_dec = -22.39 + 2.88\n",
    "\n",
    "def dist(ra, dec):\n",
    "    return ((best_ra - ra)**2 + (best_dec - dec)**2)**0.5\n",
    "\n",
    "for blazar in blazars.data:\n",
    "#     if blazar[\"ra_rad\"] > min_ra:\n",
    "#         print(blazar[\"ra_rad\"], blazar[\"ra_rad\"] > min_ra)\n",
    "    if np.logical_and(blazar[\"ra_rad\"] > min_ra, blazar[\"ra_rad\"] < max_ra):\n",
    "#         print(blazar[\"dec_rad\"], min_dec, max_dec)\n",
    "        if np.logical_and(blazar[\"dec_rad\"] > min_dec, blazar[\"dec_rad\"] < max_dec):\n",
    "            print(blazar[\"Source_Name\"], blazar[\"ra_rad\"], blazar[\"dec_rad\"], dist(blazar[\"ra_rad\"], blazar[\"dec_rad\"]), blazar[\"TEVCAT_FLAG\"], blazar['ASSOC_TEV'])"
   ]
  },
  {
   "cell_type": "code",
   "execution_count": null,
   "metadata": {},
   "outputs": [],
   "source": []
  },
  {
   "cell_type": "code",
   "execution_count": 5,
   "metadata": {},
   "outputs": [
    {
     "name": "stderr",
     "output_type": "stream",
     "text": [
      "100%|██████████| 1000/1000 [00:00<00:00, 1037.73it/s]\n",
      "100%|██████████| 100/100 [00:00<00:00, 219.45it/s]\n",
      "100%|██████████| 100/100 [00:00<00:00, 207.43it/s]\n",
      "100%|██████████| 100/100 [00:00<00:00, 175.60it/s]\n",
      "100%|██████████| 100/100 [00:00<00:00, 126.66it/s]\n",
      "100%|██████████| 100/100 [00:00<00:00, 150.34it/s]\n",
      "100%|██████████| 100/100 [00:00<00:00, 108.68it/s]\n",
      "100%|██████████| 100/100 [00:01<00:00, 95.67it/s]\n",
      "100%|██████████| 100/100 [00:01<00:00, 93.05it/s]\n",
      "100%|██████████| 100/100 [00:01<00:00, 62.32it/s]\n",
      "100%|██████████| 100/100 [00:01<00:00, 73.62it/s]\n"
     ]
    },
    {
     "name": "stdout",
     "output_type": "stream",
     "text": [
      "Saving to: /Users/robertstein/Code/alertstack/examples/fermi_neutrino_alert/cache/None.pkl\n",
      "dict_keys([0.0, 0.05, 0.1, 0.15000000000000002, 0.2, 0.25, 0.30000000000000004, 0.35000000000000003, 0.4, 0.45, 0.5])\n",
      "Saving to: /Users/robertstein/Code/alertstack/examples/fermi_neutrino_alert/cache/None.pkl\n",
      "dict_keys([0.0, 0.05, 0.1, 0.15000000000000002, 0.2, 0.25, 0.30000000000000004, 0.35000000000000003, 0.4, 0.45, 0.5])\n",
      "      fun: nan\n",
      " hess_inv: <3x3 LbfgsInvHessProduct with dtype=float64>\n",
      "      jac: array([ 693.30590975, 4777.47918239, 2341.07287724])\n",
      "  message: b'ABNORMAL_TERMINATION_IN_LNSRCH'\n",
      "     nfev: 292\n",
      "      nit: 20\n",
      "   status: 2\n",
      "  success: False\n",
      "        x: array([ 2.37581644, -0.1257252 ,  0.13818016])\n"
     ]
    }
   ],
   "source": [
    "all_res = blazar_analysis.iterate_run(n_trials=100, injection_hypo=AverageFluxWeightHypothesis, fraction=0.5, nsteps=10)\n",
    "\n",
    "all_res = blazar_analysis.load_results()\n",
    "    # input(\"?\")"
   ]
  },
  {
   "cell_type": "code",
   "execution_count": 6,
   "metadata": {},
   "outputs": [
    {
     "name": "stdout",
     "output_type": "stream",
     "text": [
      "      fun: nan\n",
      " hess_inv: <3x3 LbfgsInvHessProduct with dtype=float64>\n",
      "      jac: array([ 693.30590975, 4777.47918239, 2341.07287724])\n",
      "  message: b'ABNORMAL_TERMINATION_IN_LNSRCH'\n",
      "     nfev: 292\n",
      "      nit: 20\n",
      "   status: 2\n",
      "  success: False\n",
      "        x: array([ 2.37581644, -0.1257252 ,  0.13818016])\n"
     ]
    }
   ],
   "source": [
    "sens_threshold = dict()\n",
    "disc_3_threshold = dict()\n",
    "disc_4_threshold = dict()\n",
    "disc_5_threshold = dict()\n",
    "disc_6_threshold = dict()\n",
    "\n",
    "zero_key = 0.0\n",
    "\n",
    "for key, val in all_res[zero_key].items():\n",
    "    sens_threshold[key] = np.median(val)\n",
    "    gd = GammaDistribution(val)\n",
    "    disc_3_threshold[key] = gd.calculate_discovery_potential(3.)\n",
    "    disc_4_threshold[key] = gd.calculate_discovery_potential(4.)\n",
    "    disc_5_threshold[key] = gd.calculate_discovery_potential(5.)\n",
    "    disc_6_threshold[key] = gd.calculate_discovery_potential(6.)\n",
    "    # print(Chi2(val))"
   ]
  },
  {
   "cell_type": "code",
   "execution_count": 7,
   "metadata": {},
   "outputs": [
    {
     "name": "stdout",
     "output_type": "stream",
     "text": [
      "      fun: nan\n",
      " hess_inv: <3x3 LbfgsInvHessProduct with dtype=float64>\n",
      "      jac: array([ 693.30590975, 4777.47918239, 2341.07287724])\n",
      "  message: b'ABNORMAL_TERMINATION_IN_LNSRCH'\n",
      "     nfev: 292\n",
      "      nit: 20\n",
      "   status: 2\n",
      "  success: False\n",
      "        x: array([ 2.37581644, -0.1257252 ,  0.13818016])\n"
     ]
    },
    {
     "data": {
      "image/png": "[encoded data removed]",
      "text/plain": [
       "<Figure size 432x288 with 1 Axes>"
      ]
     },
     "metadata": {
      "needs_background": "light"
     },
     "output_type": "display_data"
    },
    {
     "name": "stdout",
     "output_type": "stream",
     "text": [
      "3 Sigma Discovery Potential: 0.8747440474850754\n",
      "0.9892865235584912\n",
      "4 Sigma Discovery Potential: 1.473269970888121\n",
      "0.9997486409378323\n",
      "5 Sigma Discovery Potential: 2.1888651067279286\n",
      "0.9999977249875244\n",
      "6 Sigma Discovery Potential: 3.0285114643841458\n",
      "0.9999999921699388\n",
      "      fun: -241.4607406718875\n",
      " hess_inv: <3x3 LbfgsInvHessProduct with dtype=float64>\n",
      "      jac: array([-1.70530257e-05, -6.49215542e+03, -2.84217094e-06])\n",
      "  message: b'CONVERGENCE: REL_REDUCTION_OF_F_<=_FACTR*EPSMCH'\n",
      "     nfev: 388\n",
      "      nit: 43\n",
      "   status: 0\n",
      "  success: True\n",
      "        x: array([ 0.23907741, -0.01      ,  0.26584526])\n"
     ]
    },
    {
     "data": {
      "image/png": "[encoded data removed]",
      "text/plain": [
       "<Figure size 432x288 with 1 Axes>"
      ]
     },
     "metadata": {
      "needs_background": "light"
     },
     "output_type": "display_data"
    },
    {
     "name": "stdout",
     "output_type": "stream",
     "text": [
      "      fun: nan\n",
      " hess_inv: <3x3 LbfgsInvHessProduct with dtype=float64>\n",
      "      jac: array([ 106.6972878 ,  755.47406482, -734.42852582])\n",
      "  message: b'ABNORMAL_TERMINATION_IN_LNSRCH'\n",
      "     nfev: 324\n",
      "      nit: 25\n",
      "   status: 2\n",
      "  success: False\n",
      "        x: array([ 1.37723719, -0.02482884,  0.07442437])\n"
     ]
    },
    {
     "data": {
      "image/png": "[encoded data removed]",
      "text/plain": [
       "<Figure size 432x288 with 1 Axes>"
      ]
     },
     "metadata": {
      "needs_background": "light"
     },
     "output_type": "display_data"
    },
    {
     "name": "stdout",
     "output_type": "stream",
     "text": [
      "      fun: nan\n",
      " hess_inv: <3x3 LbfgsInvHessProduct with dtype=float64>\n",
      "      jac: array([  16.30011077,  158.3152681 , -640.14216505])\n",
      "  message: b'ABNORMAL_TERMINATION_IN_LNSRCH'\n",
      "     nfev: 316\n",
      "      nit: 23\n",
      "   status: 2\n",
      "  success: False\n",
      "        x: array([ 3.9853375 , -0.18196085,  0.056109  ])\n"
     ]
    },
    {
     "data": {
      "image/png": "[encoded data removed]",
      "text/plain": [
       "<Figure size 432x288 with 1 Axes>"
      ]
     },
     "metadata": {
      "needs_background": "light"
     },
     "output_type": "display_data"
    },
    {
     "name": "stdout",
     "output_type": "stream",
     "text": [
      "      fun: nan\n",
      " hess_inv: <3x3 LbfgsInvHessProduct with dtype=float64>\n",
      "      jac: array([10.12542015, 43.81731173, 73.12598456])\n",
      "  message: b'ABNORMAL_TERMINATION_IN_LNSRCH'\n",
      "     nfev: 224\n",
      "      nit: 13\n",
      "   status: 2\n",
      "  success: False\n",
      "        x: array([ 6.10575104, -0.86951474,  0.16737483])\n"
     ]
    },
    {
     "data": {
      "image/png": "[encoded data removed]",
      "text/plain": [
       "<Figure size 432x288 with 1 Axes>"
      ]
     },
     "metadata": {
      "needs_background": "light"
     },
     "output_type": "display_data"
    },
    {
     "name": "stdout",
     "output_type": "stream",
     "text": [
      "      fun: nan\n",
      " hess_inv: <3x3 LbfgsInvHessProduct with dtype=float64>\n",
      "      jac: array([  106.79495404, -1037.44469158, -1352.75073205])\n",
      "  message: b'ABNORMAL_TERMINATION_IN_LNSRCH'\n",
      "     nfev: 296\n",
      "      nit: 24\n",
      "   status: 2\n",
      "  success: False\n",
      "        x: array([ 0.91140832, -0.01      ,  0.06914475])\n"
     ]
    },
    {
     "data": {
      "image/png": "[encoded data removed]",
      "text/plain": [
       "<Figure size 432x288 with 1 Axes>"
      ]
     },
     "metadata": {
      "needs_background": "light"
     },
     "output_type": "display_data"
    },
    {
     "name": "stdout",
     "output_type": "stream",
     "text": [
      "      fun: nan\n",
      " hess_inv: <3x3 LbfgsInvHessProduct with dtype=float64>\n",
      "      jac: array([   66.51925446,   402.71252146, -3472.00771387])\n",
      "  message: b'ABNORMAL_TERMINATION_IN_LNSRCH'\n",
      "     nfev: 312\n",
      "      nit: 16\n",
      "   status: 2\n",
      "  success: False\n",
      "        x: array([ 1.31254757, -0.01      ,  0.01967452])\n"
     ]
    },
    {
     "data": {
      "image/png": "[encoded data removed]",
      "text/plain": [
       "<Figure size 432x288 with 1 Axes>"
      ]
     },
     "metadata": {
      "needs_background": "light"
     },
     "output_type": "display_data"
    },
    {
     "name": "stdout",
     "output_type": "stream",
     "text": [
      "      fun: nan\n",
      " hess_inv: <3x3 LbfgsInvHessProduct with dtype=float64>\n",
      "      jac: array([16.8288075 , 18.49548497, 84.69707282])\n",
      "  message: b'ABNORMAL_TERMINATION_IN_LNSRCH'\n",
      "     nfev: 532\n",
      "      nit: 36\n",
      "   status: 2\n",
      "  success: False\n",
      "        x: array([ 2.95575111, -0.64357785,  0.29590903])\n"
     ]
    },
    {
     "data": {
      "image/png": "[encoded data removed]",
      "text/plain": [
       "<Figure size 432x288 with 1 Axes>"
      ]
     },
     "metadata": {
      "needs_background": "light"
     },
     "output_type": "display_data"
    },
    {
     "name": "stdout",
     "output_type": "stream",
     "text": [
      "      fun: nan\n",
      " hess_inv: <3x3 LbfgsInvHessProduct with dtype=float64>\n",
      "      jac: array([ 34.74599666, 112.27998868,  53.46704626])\n",
      "  message: b'ABNORMAL_TERMINATION_IN_LNSRCH'\n",
      "     nfev: 736\n",
      "      nit: 51\n",
      "   status: 2\n",
      "  success: False\n",
      "        x: array([ 2.25253575, -0.17641894,  0.12398641])\n"
     ]
    },
    {
     "data": {
      "image/png": "[encoded data removed]",
      "text/plain": [
       "<Figure size 432x288 with 1 Axes>"
      ]
     },
     "metadata": {
      "needs_background": "light"
     },
     "output_type": "display_data"
    },
    {
     "name": "stdout",
     "output_type": "stream",
     "text": [
      "      fun: nan\n",
      " hess_inv: <3x3 LbfgsInvHessProduct with dtype=float64>\n",
      "      jac: array([   36.32694927, -3898.68450696, -2232.29783671])\n",
      "  message: b'ABNORMAL_TERMINATION_IN_LNSRCH'\n",
      "     nfev: 288\n",
      "      nit: 21\n",
      "   status: 2\n",
      "  success: False\n",
      "        x: array([ 0.55399431, -0.01      ,  0.06721889])\n"
     ]
    },
    {
     "data": {
      "image/png": "[encoded data removed]",
      "text/plain": [
       "<Figure size 432x288 with 1 Axes>"
      ]
     },
     "metadata": {
      "needs_background": "light"
     },
     "output_type": "display_data"
    },
    {
     "name": "stdout",
     "output_type": "stream",
     "text": [
      "      fun: nan\n",
      " hess_inv: <3x3 LbfgsInvHessProduct with dtype=float64>\n",
      "      jac: array([ 36.09364398, 538.93152483,  94.93543871])\n",
      "  message: b'ABNORMAL_TERMINATION_IN_LNSRCH'\n",
      "     nfev: 260\n",
      "      nit: 12\n",
      "   status: 2\n",
      "  success: False\n",
      "        x: array([ 3.14555186, -0.09343183,  0.04583918])\n"
     ]
    },
    {
     "data": {
      "image/png": "[encoded data removed]",
      "text/plain": [
       "<Figure size 432x288 with 1 Axes>"
      ]
     },
     "metadata": {
      "needs_background": "light"
     },
     "output_type": "display_data"
    }
   ],
   "source": [
    "scales = sorted([float(x) for x in all_res.keys()])\n",
    "\n",
    "for scale in scales:\n",
    "\n",
    "    for key, val in all_res[scale].items():\n",
    "\n",
    "        gd = GammaDistribution(val)\n",
    "\n",
    "        data = np.array(val)\n",
    "\n",
    "    #     bins = np.histogram(data, bins=20)\n",
    "    #     print(np.log(bins[0]), len(bins[0]), len(bins[1]))\n",
    "\n",
    "    #     x_vals = [np.mean([x + bins[1][i+1]]) for i, x in enumerate(bins[1][:-1])]\n",
    "\n",
    "    #     plt.plot(x_vals, np.log(bins[0]))\n",
    "\n",
    "    #     print(x_vals, np.log(bins[0]))\n",
    "\n",
    "        weights = np.ones(len(val))\n",
    "        weights /= np.sum(weights)\n",
    "        mask = data > 0.\n",
    "        \n",
    "        plt.figure()\n",
    "\n",
    "        plt.hist(data, density=True, bins=50)\n",
    "    #     plt.hist(data[mask], weights=weights[mask])\n",
    "    #     plt.hist(data[~mask], weights=weights[~mask], color=\"grey\")\n",
    "        x_range = np.linspace(min(data), max(data), 100)\n",
    "    #     plt.plot(x_range, scipy.stats.gamma.pdf(x_range, res[\"x\"][0], loc=0., scale=res[\"x\"][1]))\n",
    "        plt.yscale(\"log\")\n",
    "        ylim = plt.gca().get_ylim()\n",
    "        plt.plot(x_range, gd.dist.pdf(x_range))#*(1 - gd.frac_under_zero))\n",
    "        plt.gca().set_ylim(ylim)\n",
    "        plt.title(\"{0}% of flux\".format(scale*100.))\n",
    "        plt.show()\n",
    "        \n",
    "        if not scale > 0.:\n",
    "\n",
    "            for i in [3, 4, 5, 6]:\n",
    "                disc_threshold = gd.calculate_discovery_potential(i)\n",
    "                print(\"{0} Sigma Discovery Potential: {1}\".format(i, disc_threshold))\n",
    "                print(gd.dist.cdf(disc_threshold))# + gd.frac_under_zero)"
   ]
  },
  {
   "cell_type": "code",
   "execution_count": 8,
   "metadata": {},
   "outputs": [
    {
     "name": "stdout",
     "output_type": "stream",
     "text": [
      "Fraction of neutrino alerts correlated to source: 0.0 \n",
      "\n",
      "average_flux_weight 0.1896310670291255 0.0 0.8380406152729619\n",
      "0.0\n",
      "Fraction above Background Median: 0.126\n",
      "0.8747440474850754\n",
      "Fraction above 3 Sigma Discovery Potential: 0.053\n",
      "1.473269970888121\n",
      "Fraction above 4 Sigma Discovery Potential: 0.045\n",
      "2.1888651067279286\n",
      "Fraction above 5 Sigma Discovery Potential: 0.041\n",
      "3.0285114643841458\n",
      "Fraction above 6 Sigma Discovery Potential: 0.032\n",
      "Fraction of neutrino alerts correlated to source: 0.05 \n",
      "\n",
      "average_flux_weight 0.08122993971008803 0.0 0.44836773393125673\n",
      "0.0\n",
      "Fraction above Background Median: 0.1\n",
      "0.8747440474850754\n",
      "Fraction above 3 Sigma Discovery Potential: 0.03\n",
      "1.473269970888121\n",
      "Fraction above 4 Sigma Discovery Potential: 0.03\n",
      "2.1888651067279286\n",
      "Fraction above 5 Sigma Discovery Potential: 0.02\n",
      "3.0285114643841458\n",
      "Fraction above 6 Sigma Discovery Potential: 0.0\n",
      "Fraction of neutrino alerts correlated to source: 0.1 \n",
      "\n",
      "average_flux_weight 0.13038716029402014 0.0 0.7439874173698151\n",
      "0.0\n",
      "Fraction above Background Median: 0.09\n",
      "0.8747440474850754\n",
      "Fraction above 3 Sigma Discovery Potential: 0.03\n",
      "1.473269970888121\n",
      "Fraction above 4 Sigma Discovery Potential: 0.03\n",
      "2.1888651067279286\n",
      "Fraction above 5 Sigma Discovery Potential: 0.03\n",
      "3.0285114643841458\n",
      "Fraction above 6 Sigma Discovery Potential: 0.03\n",
      "Fraction of neutrino alerts correlated to source: 0.15000000000000002 \n",
      "\n",
      "average_flux_weight 0.09940900224777406 0.0 0.5611433196958215\n",
      "0.0\n",
      "Fraction above Background Median: 0.07\n",
      "0.8747440474850754\n",
      "Fraction above 3 Sigma Discovery Potential: 0.03\n",
      "1.473269970888121\n",
      "Fraction above 4 Sigma Discovery Potential: 0.03\n",
      "2.1888651067279286\n",
      "Fraction above 5 Sigma Discovery Potential: 0.02\n",
      "3.0285114643841458\n",
      "Fraction above 6 Sigma Discovery Potential: 0.01\n",
      "Fraction of neutrino alerts correlated to source: 0.2 \n",
      "\n",
      "average_flux_weight 0.26324777707236874 0.0 0.9974666009489229\n",
      "0.0\n",
      "Fraction above Background Median: 0.13\n",
      "0.8747440474850754\n",
      "Fraction above 3 Sigma Discovery Potential: 0.06\n",
      "1.473269970888121\n",
      "Fraction above 4 Sigma Discovery Potential: 0.06\n",
      "2.1888651067279286\n",
      "Fraction above 5 Sigma Discovery Potential: 0.06\n",
      "3.0285114643841458\n",
      "Fraction above 6 Sigma Discovery Potential: 0.05\n",
      "Fraction of neutrino alerts correlated to source: 0.25 \n",
      "\n",
      "average_flux_weight 0.12593288448139905 0.0 0.5765732924598109\n",
      "0.0\n",
      "Fraction above Background Median: 0.15\n",
      "0.8747440474850754\n",
      "Fraction above 3 Sigma Discovery Potential: 0.03\n",
      "1.473269970888121\n",
      "Fraction above 4 Sigma Discovery Potential: 0.03\n",
      "2.1888651067279286\n",
      "Fraction above 5 Sigma Discovery Potential: 0.03\n",
      "3.0285114643841458\n",
      "Fraction above 6 Sigma Discovery Potential: 0.01\n",
      "Fraction of neutrino alerts correlated to source: 0.30000000000000004 \n",
      "\n",
      "average_flux_weight 0.03426439445630214 0.0 0.2657653504316777\n",
      "0.0\n",
      "Fraction above Background Median: 0.08\n",
      "0.8747440474850754\n",
      "Fraction above 3 Sigma Discovery Potential: 0.01\n",
      "1.473269970888121\n",
      "Fraction above 4 Sigma Discovery Potential: 0.01\n",
      "2.1888651067279286\n",
      "Fraction above 5 Sigma Discovery Potential: 0.01\n",
      "3.0285114643841458\n",
      "Fraction above 6 Sigma Discovery Potential: 0.0\n",
      "Fraction of neutrino alerts correlated to source: 0.35000000000000003 \n",
      "\n",
      "average_flux_weight 0.3065280447189108 0.0 1.0537940145819489\n",
      "0.0\n",
      "Fraction above Background Median: 0.14\n",
      "0.8747440474850754\n",
      "Fraction above 3 Sigma Discovery Potential: 0.08\n",
      "1.473269970888121\n",
      "Fraction above 4 Sigma Discovery Potential: 0.07\n",
      "2.1888651067279286\n",
      "Fraction above 5 Sigma Discovery Potential: 0.06\n",
      "3.0285114643841458\n",
      "Fraction above 6 Sigma Discovery Potential: 0.04\n",
      "Fraction of neutrino alerts correlated to source: 0.4 \n",
      "\n",
      "average_flux_weight 0.14652228532713493 0.0 0.7602681036634512\n",
      "0.0\n",
      "Fraction above Background Median: 0.11\n",
      "0.8747440474850754\n",
      "Fraction above 3 Sigma Discovery Potential: 0.04\n",
      "1.473269970888121\n",
      "Fraction above 4 Sigma Discovery Potential: 0.04\n",
      "2.1888651067279286\n",
      "Fraction above 5 Sigma Discovery Potential: 0.03\n",
      "3.0285114643841458\n",
      "Fraction above 6 Sigma Discovery Potential: 0.03\n",
      "Fraction of neutrino alerts correlated to source: 0.45 \n",
      "\n",
      "average_flux_weight 0.13865271614214408 0.0 0.5629586053197453\n",
      "0.0\n",
      "Fraction above Background Median: 0.16\n",
      "0.8747440474850754\n",
      "Fraction above 3 Sigma Discovery Potential: 0.05\n",
      "1.473269970888121\n",
      "Fraction above 4 Sigma Discovery Potential: 0.04\n",
      "2.1888651067279286\n",
      "Fraction above 5 Sigma Discovery Potential: 0.04\n",
      "3.0285114643841458\n",
      "Fraction above 6 Sigma Discovery Potential: 0.01\n",
      "Fraction of neutrino alerts correlated to source: 0.5 \n",
      "\n",
      "average_flux_weight 0.07098160067990196 0.0 0.4838336996185491\n",
      "0.0\n",
      "Fraction above Background Median: 0.09\n",
      "0.8747440474850754\n",
      "Fraction above 3 Sigma Discovery Potential: 0.02\n",
      "1.473269970888121\n",
      "Fraction above 4 Sigma Discovery Potential: 0.02\n",
      "2.1888651067279286\n",
      "Fraction above 5 Sigma Discovery Potential: 0.01\n",
      "3.0285114643841458\n",
      "Fraction above 6 Sigma Discovery Potential: 0.01\n"
     ]
    }
   ],
   "source": [
    "levels = [\n",
    "    (\"Background Median\", sens_threshold),\n",
    "    (\"3 Sigma Discovery Potential\", disc_3_threshold),\n",
    "    (\"4 Sigma Discovery Potential\", disc_4_threshold),\n",
    "    (\"5 Sigma Discovery Potential\", disc_5_threshold),\n",
    "    (\"6 Sigma Discovery Potential\", disc_6_threshold)\n",
    "]\n",
    "\n",
    "\n",
    "for step, res in all_res.items():\n",
    "    print(\"Fraction of neutrino alerts correlated to source: {0} \\n\".format(step))\n",
    "\n",
    "    bkgs = dict()\n",
    "\n",
    "    for key, val in res.items():\n",
    "        print(key, np.mean(val), np.median(val), np.std(val))\n",
    "        val = np.array(val)\n",
    "\n",
    "        for name, thresh in levels:\n",
    "            print(thresh[key])\n",
    "            print(\"Fraction above {0}: {1}\".format(\n",
    "                name, np.sum(val > thresh[key])/float(len(val))))"
   ]
  },
  {
   "cell_type": "code",
   "execution_count": 9,
   "metadata": {
    "scrolled": true
   },
   "outputs": [],
   "source": [
    "# for key, val in all_res[zero_key].items():\n",
    "#     weights = np.ones_like(val)/float(len(val))\n",
    "#     plt.hist(val, weights=weights, bins=50)\n",
    "#     plt.title(key)\n",
    "#     plt.yscale(\"log\")\n",
    "#     plt.figure()\n",
    "#     plt.hist(val, weights=weights, cumulative=True, bins=50)"
   ]
  },
  {
   "cell_type": "code",
   "execution_count": 10,
   "metadata": {
    "scrolled": true
   },
   "outputs": [],
   "source": [
    "# import numpy as np\n",
    "# res = np.arccos(np.random.uniform(size=1000)*2 - 1) - np.pi/2.\n",
    "# plt.hist(res)\n",
    "# plt.hist(np.cos(np.pi/2. - res))"
   ]
  },
  {
   "cell_type": "code",
   "execution_count": null,
   "metadata": {},
   "outputs": [],
   "source": []
  },
  {
   "cell_type": "code",
   "execution_count": null,
   "metadata": {},
   "outputs": [],
   "source": []
  },
  {
   "cell_type": "code",
   "execution_count": null,
   "metadata": {},
   "outputs": [],
   "source": []
  },
  {
   "cell_type": "code",
   "execution_count": null,
   "metadata": {},
   "outputs": [],
   "source": []
  }
 ],
 "metadata": {
  "kernelspec": {
   "display_name": "alertstack",
   "language": "python",
   "name": "alertstack"
  },
  "language_info": {
   "codemirror_mode": {
    "name": "ipython",
    "version": 3
   },
   "file_extension": ".py",
   "mimetype": "text/x-python",
   "name": "python",
   "nbconvert_exporter": "python",
   "pygments_lexer": "ipython3",
   "version": "3.7.4"
  }
 },
 "nbformat": 4,
 "nbformat_minor": 1
}
