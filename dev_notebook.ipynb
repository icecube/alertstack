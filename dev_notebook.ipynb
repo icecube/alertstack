{
 "cells": [
  {
   "cell_type": "code",
   "execution_count": 14,
   "metadata": {},
   "outputs": [],
   "source": [
    "%matplotlib inline\n",
    "import matplotlib.pyplot as plt\n",
    "import numpy as np\n",
    "from alertstack.analyse import Analyse\n",
    "from alertstack.scramble_catalogues.blazar_catalogue import Fermi4FGLBlazarCatalogue, AverageFluxWeightHypothesis\n",
    "from alertstack.fixed_catalogues.icecube_neutrino_alerts import CircularisedNeutrinoAlertCatalogue\n",
    "from alertstack.stats import GammaDistribution\n",
    "from examples.fermi_neutrino_alert import blazar_analysis"
   ]
  },
  {
   "cell_type": "code",
   "execution_count": 15,
   "metadata": {},
   "outputs": [],
   "source": [
    "# blazars = Fermi4FGLBlazarCatalogue()\n",
    "\n",
    "# blazars.data = blazars.data\n",
    "# # print(blazars.data[\"Flux1000\"][:5])\n",
    "# nu_cat = CircularisedNeutrinoAlertCatalogue()\n",
    "# nu_cat.data = nu_cat.data\n",
    "\n",
    "# print(len(nu_cat.data))\n",
    "\n",
    "# ana = Analyse(\n",
    "#     blazars,\n",
    "#     [AverageFluxWeightHypothesis],\n",
    "#     nu_cat,\n",
    "#     blazar_cache\n",
    "# )"
   ]
  },
  {
   "cell_type": "code",
   "execution_count": 16,
   "metadata": {},
   "outputs": [
    {
     "name": "stdout",
     "output_type": "stream",
     "text": [
      "Saving to: /Users/robertstein/Code/alertstack/examples/fermi_neutrino_alert/cache/None.pkl\n",
      "dict_keys([0.0, 0.2, 0.4, 0.6000000000000001, 0.8, 1.0])\n"
     ]
    }
   ],
   "source": [
    "# all_res = ana.iterate_run(n_trials=5000, injection_hypo=AverageFluxWeightHypothesis, fraction=0.3, nsteps=10)\n",
    "\n",
    "all_res = blazar_analysis.load_results()\n",
    "    # input(\"?\")"
   ]
  },
  {
   "cell_type": "code",
   "execution_count": 17,
   "metadata": {},
   "outputs": [
    {
     "name": "stdout",
     "output_type": "stream",
     "text": [
      "      fun: 133058.12095276878\n",
      " hess_inv: <3x3 LbfgsInvHessProduct with dtype=float64>\n",
      "      jac: array([-0.00582077, -0.00582077, -0.02037268])\n",
      "  message: b'CONVERGENCE: REL_REDUCTION_OF_F_<=_FACTR*EPSMCH'\n",
      "     nfev: 156\n",
      "      nit: 32\n",
      "   status: 0\n",
      "  success: True\n",
      "        x: array([ 4.78437696, -3.68574667,  1.32034567])\n"
     ]
    }
   ],
   "source": [
    "sens_threshold = dict()\n",
    "disc_3_threshold = dict()\n",
    "disc_4_threshold = dict()\n",
    "disc_5_threshold = dict()\n",
    "disc_6_threshold = dict()\n",
    "\n",
    "zero_key = 0.0\n",
    "\n",
    "for key, val in all_res[zero_key].items():\n",
    "    sens_threshold[key] = np.median(val)\n",
    "    gd = GammaDistribution(val)\n",
    "    disc_3_threshold[key] = gd.calculate_discovery_potential(3.)\n",
    "    disc_4_threshold[key] = gd.calculate_discovery_potential(4.)\n",
    "    disc_5_threshold[key] = gd.calculate_discovery_potential(5.)\n",
    "    disc_6_threshold[key] = gd.calculate_discovery_potential(6.)\n",
    "    # print(Chi2(val))"
   ]
  },
  {
   "cell_type": "code",
   "execution_count": 18,
   "metadata": {},
   "outputs": [
    {
     "name": "stdout",
     "output_type": "stream",
     "text": [
      "      fun: 133058.12095276878\n",
      " hess_inv: <3x3 LbfgsInvHessProduct with dtype=float64>\n",
      "      jac: array([-0.00582077, -0.00582077, -0.02037268])\n",
      "  message: b'CONVERGENCE: REL_REDUCTION_OF_F_<=_FACTR*EPSMCH'\n",
      "     nfev: 156\n",
      "      nit: 32\n",
      "   status: 0\n",
      "  success: True\n",
      "        x: array([ 4.78437696, -3.68574667,  1.32034567])\n",
      "3 Sigma Discovery Potential: 14.838676040515432\n",
      "0.9986500775574758\n",
      "4 Sigma Discovery Potential: 21.160671092708608\n",
      "0.9999683281854397\n",
      "5 Sigma Discovery Potential: 28.618237984309186\n",
      "0.9999997133432444\n",
      "6 Sigma Discovery Potential: 37.243772326780935\n",
      "0.9999999990133944\n"
     ]
    },
    {
     "data": {
      "image/png": "[encoded data removed]",
      "text/plain": [
       "<Figure size 432x288 with 1 Axes>"
      ]
     },
     "metadata": {
      "needs_background": "light"
     },
     "output_type": "display_data"
    }
   ],
   "source": [
    "for key, val in all_res[zero_key].items():\n",
    "    \n",
    "    gd = GammaDistribution(val)\n",
    "    \n",
    "    data = np.array(val)\n",
    "    \n",
    "#     bins = np.histogram(data, bins=20)\n",
    "#     print(np.log(bins[0]), len(bins[0]), len(bins[1]))\n",
    "    \n",
    "#     x_vals = [np.mean([x + bins[1][i+1]]) for i, x in enumerate(bins[1][:-1])]\n",
    "    \n",
    "#     plt.plot(x_vals, np.log(bins[0]))\n",
    "    \n",
    "#     print(x_vals, np.log(bins[0]))\n",
    "    \n",
    "    weights = np.ones(len(val))\n",
    "    weights /= np.sum(weights)\n",
    "    mask = data > 0.\n",
    "    \n",
    "    plt.hist(data, density=True, bins=50)\n",
    "#     plt.hist(data[mask], weights=weights[mask])\n",
    "#     plt.hist(data[~mask], weights=weights[~mask], color=\"grey\")\n",
    "    x_range = np.linspace(min(data), max(data), 100)\n",
    "#     plt.plot(x_range, scipy.stats.gamma.pdf(x_range, res[\"x\"][0], loc=0., scale=res[\"x\"][1]))\n",
    "    plt.yscale(\"log\")\n",
    "    ylim = plt.gca().get_ylim()\n",
    "    plt.plot(x_range, gd.dist.pdf(x_range))#*(1 - gd.frac_under_zero))\n",
    "    plt.gca().set_ylim(ylim)\n",
    "    \n",
    "    for i in [3, 4, 5, 6]:\n",
    "        disc_threshold = gd.calculate_discovery_potential(i)\n",
    "        print(\"{0} Sigma Discovery Potential: {1}\".format(i, disc_threshold))\n",
    "        print(gd.dist.cdf(disc_threshold))# + gd.frac_under_zero)"
   ]
  },
  {
   "cell_type": "code",
   "execution_count": 7,
   "metadata": {},
   "outputs": [
    {
     "name": "stdout",
     "output_type": "stream",
     "text": [
      "Fraction of neutrino alerts correlated to source: 0.0 \n",
      "\n",
      "average_flux_weight 2.6625021565988276 2.2448944825531516 2.8851264348407146\n",
      "2.2448944825531516\n",
      "Fraction above Background Median: 0.5\n",
      "15.019344523425952\n",
      "Fraction above 3 Sigma Discovery Potential: 0.0005660377358490566\n",
      "21.424760715715795\n",
      "Fraction above 4 Sigma Discovery Potential: 0.0\n",
      "28.982700326172377\n",
      "Fraction above 5 Sigma Discovery Potential: 0.0\n",
      "37.72602188185783\n",
      "Fraction above 6 Sigma Discovery Potential: 0.0\n",
      "Fraction of neutrino alerts correlated to source: 0.2 \n",
      "\n",
      "average_flux_weight 27.55471477043808 27.191371122364085 9.181389228104088\n",
      "2.2448944825531516\n",
      "Fraction above Background Median: 1.0\n",
      "15.019344523425952\n",
      "Fraction above 3 Sigma Discovery Potential: 0.9188679245283019\n",
      "21.424760715715795\n",
      "Fraction above 4 Sigma Discovery Potential: 0.7433962264150943\n",
      "28.982700326172377\n",
      "Fraction above 5 Sigma Discovery Potential: 0.41320754716981134\n",
      "37.72602188185783\n",
      "Fraction above 6 Sigma Discovery Potential: 0.13584905660377358\n",
      "Fraction of neutrino alerts correlated to source: 0.4 \n",
      "\n",
      "average_flux_weight 48.12546760665319 48.0134780110319 11.354574790499045\n",
      "2.2448944825531516\n",
      "Fraction above Background Median: 1.0\n",
      "15.019344523425952\n",
      "Fraction above 3 Sigma Discovery Potential: 1.0\n",
      "21.424760715715795\n",
      "Fraction above 4 Sigma Discovery Potential: 0.9943396226415094\n",
      "28.982700326172377\n",
      "Fraction above 5 Sigma Discovery Potential: 0.9490566037735849\n",
      "37.72602188185783\n",
      "Fraction above 6 Sigma Discovery Potential: 0.8113207547169812\n",
      "Fraction of neutrino alerts correlated to source: 0.6000000000000001 \n",
      "\n",
      "average_flux_weight 65.05693310171381 64.90061337782302 12.51385932925874\n",
      "2.2448944825531516\n",
      "Fraction above Background Median: 1.0\n",
      "15.019344523425952\n",
      "Fraction above 3 Sigma Discovery Potential: 1.0\n",
      "21.424760715715795\n",
      "Fraction above 4 Sigma Discovery Potential: 1.0\n",
      "28.982700326172377\n",
      "Fraction above 5 Sigma Discovery Potential: 0.9981132075471698\n",
      "37.72602188185783\n",
      "Fraction above 6 Sigma Discovery Potential: 0.9886792452830189\n",
      "Fraction of neutrino alerts correlated to source: 0.8 \n",
      "\n",
      "average_flux_weight 81.42530396554785 81.57151948794211 12.363697825586433\n",
      "2.2448944825531516\n",
      "Fraction above Background Median: 1.0\n",
      "15.019344523425952\n",
      "Fraction above 3 Sigma Discovery Potential: 1.0\n",
      "21.424760715715795\n",
      "Fraction above 4 Sigma Discovery Potential: 1.0\n",
      "28.982700326172377\n",
      "Fraction above 5 Sigma Discovery Potential: 1.0\n",
      "37.72602188185783\n",
      "Fraction above 6 Sigma Discovery Potential: 1.0\n",
      "Fraction of neutrino alerts correlated to source: 1.0 \n",
      "\n",
      "average_flux_weight 93.09248833761347 93.42029327554107 12.718314026699286\n",
      "2.2448944825531516\n",
      "Fraction above Background Median: 1.0\n",
      "15.019344523425952\n",
      "Fraction above 3 Sigma Discovery Potential: 1.0\n",
      "21.424760715715795\n",
      "Fraction above 4 Sigma Discovery Potential: 1.0\n",
      "28.982700326172377\n",
      "Fraction above 5 Sigma Discovery Potential: 1.0\n",
      "37.72602188185783\n",
      "Fraction above 6 Sigma Discovery Potential: 1.0\n"
     ]
    }
   ],
   "source": [
    "levels = [\n",
    "    (\"Background Median\", sens_threshold),\n",
    "    (\"3 Sigma Discovery Potential\", disc_3_threshold),\n",
    "    (\"4 Sigma Discovery Potential\", disc_4_threshold),\n",
    "    (\"5 Sigma Discovery Potential\", disc_5_threshold),\n",
    "    (\"6 Sigma Discovery Potential\", disc_6_threshold)\n",
    "]\n",
    "\n",
    "\n",
    "for step, res in all_res.items():\n",
    "    print(\"Fraction of neutrino alerts correlated to source: {0} \\n\".format(step))\n",
    "\n",
    "    bkgs = dict()\n",
    "\n",
    "    for key, val in res.items():\n",
    "        print(key, np.mean(val), np.median(val), np.std(val))\n",
    "        val = np.array(val)\n",
    "\n",
    "        for name, thresh in levels:\n",
    "            print(thresh[key])\n",
    "            print(\"Fraction above {0}: {1}\".format(\n",
    "                name, np.sum(val > thresh[key])/float(len(val))))"
   ]
  },
  {
   "cell_type": "code",
   "execution_count": 8,
   "metadata": {
    "scrolled": true
   },
   "outputs": [],
   "source": [
    "# for key, val in all_res[zero_key].items():\n",
    "#     weights = np.ones_like(val)/float(len(val))\n",
    "#     plt.hist(val, weights=weights, bins=50)\n",
    "#     plt.title(key)\n",
    "#     plt.yscale(\"log\")\n",
    "#     plt.figure()\n",
    "#     plt.hist(val, weights=weights, cumulative=True, bins=50)"
   ]
  },
  {
   "cell_type": "code",
   "execution_count": 9,
   "metadata": {
    "scrolled": true
   },
   "outputs": [
    {
     "data": {
      "text/plain": [
       "(array([ 96.,  78., 107., 102.,  91.,  97., 115., 105., 106., 103.]),\n",
       " array([-9.99777414e-01, -7.99836128e-01, -5.99894842e-01, -3.99953556e-01,\n",
       "        -2.00012269e-01, -7.09833371e-05,  1.99870303e-01,  3.99811589e-01,\n",
       "         5.99752875e-01,  7.99694161e-01,  9.99635447e-01]),\n",
       " <a list of 10 Patch objects>)"
      ]
     },
     "execution_count": 9,
     "metadata": {},
     "output_type": "execute_result"
    },
    {
     "data": {
      "image/png": "[encoded data removed]",
      "text/plain": [
       "<Figure size 432x288 with 1 Axes>"
      ]
     },
     "metadata": {
      "needs_background": "light"
     },
     "output_type": "display_data"
    }
   ],
   "source": [
    "import numpy as np\n",
    "res = np.arccos(np.random.uniform(size=1000)*2 - 1) - np.pi/2.\n",
    "plt.hist(res)\n",
    "plt.hist(np.cos(np.pi/2. - res))"
   ]
  },
  {
   "cell_type": "code",
   "execution_count": null,
   "metadata": {},
   "outputs": [],
   "source": []
  },
  {
   "cell_type": "code",
   "execution_count": null,
   "metadata": {},
   "outputs": [],
   "source": []
  },
  {
   "cell_type": "code",
   "execution_count": null,
   "metadata": {},
   "outputs": [],
   "source": []
  },
  {
   "cell_type": "code",
   "execution_count": null,
   "metadata": {},
   "outputs": [],
   "source": []
  }
 ],
 "metadata": {
  "kernelspec": {
   "display_name": "AlertStacker",
   "language": "python",
   "name": "alertstacker"
  },
  "language_info": {
   "codemirror_mode": {
    "name": "ipython",
    "version": 3
   },
   "file_extension": ".py",
   "mimetype": "text/x-python",
   "name": "python",
   "nbconvert_exporter": "python",
   "pygments_lexer": "ipython3",
   "version": "3.7.4"
  }
 },
 "nbformat": 4,
 "nbformat_minor": 1
}
