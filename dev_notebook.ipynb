{
 "cells": [
  {
   "cell_type": "code",
   "execution_count": 1,
   "metadata": {},
   "outputs": [],
   "source": [
    "import numpy as np\n",
    "from alertstack.analyse import Analyse\n",
    "from alertstack.scramble_catalogues.blazar_catalogue import Fermi4FGLBlazarCatalogue, AverageFluxWeightHypothesis\n",
    "from alertstack.fixed_catalogues.icecube_neutrino_alerts import CircularisedNeutrinoAlertCatalogue\n",
    "# from alertstack.stats import C hi2"
   ]
  },
  {
   "cell_type": "code",
   "execution_count": 2,
   "metadata": {},
   "outputs": [
    {
     "name": "stdout",
     "output_type": "stream",
     "text": [
      "NSIDE = 1024, Max Pixel Radius = 0.059800825955419704 deg\n"
     ]
    }
   ],
   "source": [
    "ana = Analyse(\n",
    "    Fermi4FGLBlazarCatalogue(),\n",
    "    [AverageFluxWeightHypothesis],\n",
    "    CircularisedNeutrinoAlertCatalogue()\n",
    ")"
   ]
  },
  {
   "cell_type": "code",
   "execution_count": 51,
   "metadata": {},
   "outputs": [
    {
     "name": "stderr",
     "output_type": "stream",
     "text": [
      "100%|██████████| 50000/50000 [07:48<00:00, 106.67it/s]\n",
      "100%|██████████| 5000/5000 [00:52<00:00, 94.50it/s] \n",
      "100%|██████████| 5000/5000 [00:53<00:00, 92.73it/s] \n",
      "100%|██████████| 5000/5000 [00:53<00:00, 93.25it/s]\n",
      "100%|██████████| 5000/5000 [00:56<00:00, 89.10it/s]\n",
      "100%|██████████| 5000/5000 [00:59<00:00, 83.74it/s]\n"
     ]
    }
   ],
   "source": [
    "all_res = ana.iterate_run(n_trials=5000, injection_hypo=AverageFluxWeightHypothesis, fraction=0.2, nsteps=5)\n",
    "\n",
    "sens_threshold = dict()\n",
    "disc_threshold = dict()\n",
    "\n",
    "zero_key = 0.0\n",
    "\n",
    "for key, val in all_res[zero_key].items():\n",
    "    sens_threshold[key] = np.median(val)\n",
    "    # print(Chi2(val))\n",
    "    # input(\"?\")"
   ]
  },
  {
   "cell_type": "code",
   "execution_count": 52,
   "metadata": {},
   "outputs": [
    {
     "name": "stdout",
     "output_type": "stream",
     "text": [
      "Fraction of neutrino alerts correlated to source: 0.0 \n",
      "\n",
      "average_flux_weight -0.17534930330124265 -0.22644303680475164 0.5571810038539048\n",
      "Fraction above median background: 0.5\n",
      "Fraction of neutrino alerts correlated to source: 0.04 \n",
      "\n",
      "average_flux_weight 0.44199452910740966 0.32390496271107394 0.8333494755531238\n",
      "Fraction above median background: 0.7794\n",
      "Fraction of neutrino alerts correlated to source: 0.08 \n",
      "\n",
      "average_flux_weight 0.8665851118982202 0.7932061059234594 0.8745231637696592\n",
      "Fraction above median background: 0.9078\n",
      "Fraction of neutrino alerts correlated to source: 0.12 \n",
      "\n",
      "average_flux_weight 1.1834051593513966 1.1374687516328716 0.8499939563061892\n",
      "Fraction above median background: 0.9626\n",
      "Fraction of neutrino alerts correlated to source: 0.16 \n",
      "\n",
      "average_flux_weight 1.4616023308614563 1.4318488716055109 0.8083153681236032\n",
      "Fraction above median background: 0.9884\n",
      "Fraction of neutrino alerts correlated to source: 0.2 \n",
      "\n",
      "average_flux_weight 1.669914876416405 1.6737460063187353 0.763569162004613\n",
      "Fraction above median background: 0.9938\n"
     ]
    }
   ],
   "source": [
    "for step, res in all_res.items():\n",
    "    print(\"Fraction of neutrino alerts correlated to source: {0} \\n\".format(step))\n",
    "\n",
    "    bkgs = dict()\n",
    "\n",
    "    for key, val in res.items():\n",
    "        print(key, np.mean(val), np.median(val), np.std(val))\n",
    "        val = np.array(val)\n",
    "        print(\"Fraction above median background:\", np.sum(val > sens_threshold[key])/float(len(val)))"
   ]
  },
  {
   "cell_type": "code",
   "execution_count": 53,
   "metadata": {},
   "outputs": [],
   "source": [
    "%matplotlib inline\n",
    "import matplotlib.pyplot as plt"
   ]
  },
  {
   "cell_type": "code",
   "execution_count": 58,
   "metadata": {},
   "outputs": [
    {
     "data": {
      "image/png": "[encoded data removed]",
      "text/plain": [
       "<Figure size 432x288 with 1 Axes>"
      ]
     },
     "metadata": {
      "needs_background": "light"
     },
     "output_type": "display_data"
    },
    {
     "data": {
      "image/png": "[encoded data removed]",
      "text/plain": [
       "<Figure size 432x288 with 1 Axes>"
      ]
     },
     "metadata": {
      "needs_background": "light"
     },
     "output_type": "display_data"
    }
   ],
   "source": [
    "for key, val in all_res[zero_key].items():\n",
    "    weights = np.ones_like(val)/float(len(val))\n",
    "    plt.hist(val, weights=weights, bins=50)\n",
    "    plt.title(key)\n",
    "    plt.yscale(\"log\")\n",
    "    plt.figure()\n",
    "    plt.hist(val, weights=weights, cumulative=True, bins=50)"
   ]
  },
  {
   "cell_type": "code",
   "execution_count": 153,
   "metadata": {},
   "outputs": [
    {
     "name": "stdout",
     "output_type": "stream",
     "text": [
      "      fun: 40644.77992394106\n",
      " hess_inv: <2x2 LbfgsInvHessProduct with dtype=float64>\n",
      "      jac: array([ 0.00654836, -0.034197  ])\n",
      "  message: b'CONVERGENCE: REL_REDUCTION_OF_F_<=_FACTR*EPSMCH'\n",
      "     nfev: 60\n",
      "      nit: 16\n",
      "   status: 0\n",
      "  success: True\n",
      "        x: array([9.85016282, 0.17994937])\n",
      "3 sigma Discovery Potential: 3.950734800555365\n",
      "5 sigma Discovery Potential: 6.141594588366258\n"
     ]
    },
    {
     "data": {
      "image/png": "[encoded data removed]",
      "text/plain": [
       "<Figure size 432x288 with 1 Axes>"
      ]
     },
     "metadata": {
      "needs_background": "light"
     },
     "output_type": "display_data"
    }
   ],
   "source": [
    "import scipy\n",
    "from scipy.stats import norm\n",
    "\n",
    "# class GammaDist:\n",
    "    \n",
    "#     def __init__(self, data):\n",
    "\n",
    "\n",
    "for key, val in all_res[zero_key].items():\n",
    "    \n",
    "    data = val - min(val) + 1e-9\n",
    "    weights = np.ones_like(data)/float(len(data))\n",
    "    mask = np.ones_like(data, dtype=np.int)\n",
    "\n",
    "    # three parameters will be fitted: dof, location, scale\n",
    "    p_start = [9., 0.5]\n",
    "    p_bounds = [(0, None), # dof > 0\n",
    "                (1e-5, 1e5)\n",
    "               ]\n",
    "\n",
    "    # define the fit function: likelihood for chi^2 distribution,\n",
    "    def func(p):\n",
    "        dist = scipy.stats.gamma(p[0], loc=0., scale=p[1])\n",
    "        loglh = dist.logpdf(data).sum()\n",
    "        return -loglh\n",
    "\n",
    "    res = scipy.optimize.minimize(func, x0=p_start, bounds=p_bounds)\n",
    "    print(res)\n",
    "    plt.hist(data, density=True, bins=50)\n",
    "    x_range = np.linspace(min(data), max(data), 100)\n",
    "#     plt.plot(x_range, scipy.stats.gamma.pdf(x_range, res[\"x\"][0], loc=0., scale=res[\"x\"][1]))\n",
    "    plt.yscale(\"log\")\n",
    "    ylim = plt.gca().get_ylim()\n",
    "    res_f = scipy.stats.gamma(res[\"x\"][0], loc=0., scale=res[\"x\"][1])\n",
    "    plt.plot(x_range, res_f.pdf(x_range))\n",
    "    plt.gca().set_ylim(ylim)\n",
    "    \n",
    "    disc_threshold = res_f.ppf(raw_five_sigma)\n",
    "    \n",
    "    for i in [3, 5]:\n",
    "        disc_threshold = res_f.ppf(norm.cdf(i))\n",
    "        print(\"{0} Sigma Discovery Potential: {1}\".format(i, disc_threshold))"
   ]
  },
  {
   "cell_type": "code",
   "execution_count": null,
   "metadata": {},
   "outputs": [],
   "source": []
  },
  {
   "cell_type": "code",
   "execution_count": null,
   "metadata": {},
   "outputs": [],
   "source": []
  }
 ],
 "metadata": {
  "kernelspec": {
   "display_name": "AlertStacker",
   "language": "python",
   "name": "alertstacker"
  },
  "language_info": {
   "codemirror_mode": {
    "name": "ipython",
    "version": 3
   },
   "file_extension": ".py",
   "mimetype": "text/x-python",
   "name": "python",
   "nbconvert_exporter": "python",
   "pygments_lexer": "ipython3",
   "version": "3.7.4"
  }
 },
 "nbformat": 4,
 "nbformat_minor": 1
}
